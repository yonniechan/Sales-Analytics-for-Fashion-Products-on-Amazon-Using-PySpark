{
 "cells": [
  {
   "cell_type": "code",
   "execution_count": 35,
   "id": "08a8be47",
   "metadata": {},
   "outputs": [],
   "source": [
    "import pandas as pd\n",
    "from pyspark import SparkContext\n",
    "from pyspark.sql import SQLContext\n",
    "import matplotlib.pyplot as plt\n",
    "import seaborn as sns\n",
    "import matplotlib.pylab as plt\n",
    "plt.rcParams[\"figure.figsize\"] = (20,6)"
   ]
  },
  {
   "cell_type": "code",
   "execution_count": 2,
   "id": "48e4651c",
   "metadata": {},
   "outputs": [
    {
     "name": "stderr",
     "output_type": "stream",
     "text": [
      "Setting default log level to \"WARN\".\n",
      "To adjust logging level use sc.setLogLevel(newLevel). For SparkR, use setLogLevel(newLevel).\n"
     ]
    },
    {
     "name": "stdout",
     "output_type": "stream",
     "text": [
      "22/10/26 13:57:52 WARN NativeCodeLoader: Unable to load native-hadoop library for your platform... using builtin-java classes where applicable\n"
     ]
    },
    {
     "name": "stderr",
     "output_type": "stream",
     "text": [
      "/Users/yonniechan/opt/anaconda3/lib/python3.9/site-packages/pyspark/sql/context.py:112: FutureWarning: Deprecated in 3.0.0. Use SparkSession.builder.getOrCreate() instead.\n",
      "  warnings.warn(\n"
     ]
    }
   ],
   "source": [
    "sc = SparkContext(appName=\"umsi618f22pj1\")\n",
    "sqlc = SQLContext(sc)"
   ]
  },
  {
   "cell_type": "markdown",
   "id": "87d32596",
   "metadata": {},
   "source": [
    "# Read csv"
   ]
  },
  {
   "cell_type": "code",
   "execution_count": 20,
   "id": "f4ce875c",
   "metadata": {},
   "outputs": [
    {
     "name": "stdout",
     "output_type": "stream",
     "text": [
      "+--------------------+--------+--------------------+----------+\n",
      "|               title|    rank|               brand|      asin|\n",
      "+--------------------+--------+--------------------+----------+\n",
      "|Slime Time Fall F...|13052976|Group Publishing ...|0764443682|\n",
      "|Magical Things I ...|19308073|   Christopher Manos|1940280001|\n",
      "|Ashes to Ashes, O...|19734184|Flickerlamp Publi...|1940735033|\n",
      "|Womens Sexy Sleev...| 9854284|              Didala|5378828716|\n",
      "|Sevendayz Men's S...|16147550|           sevendayz|6041002984|\n",
      "|Envirosax Kids Se...|25698912|           Envirosax|8037200124|\n",
      "|Envirosax Greengr...|25850143|           Envirosax|8037200221|\n",
      "|Blessed by Pope B...|19411377|      Gifts by Lulee|8279996567|\n",
      "|Tideclothes ALAGI...|21572343|         Tideclothes|9239282785|\n",
      "|ALAGIRLS Straples...|22202218|         Tideclothes|9239281533|\n",
      "|X. L. Carbon Fibe...| 3725957|         Roar Carbon|9654263246|\n",
      "|Shimmer Anne Shin...|  468314|  Shimmer Anne Shine|B00004T3SN|\n",
      "|SpongeBob Squarep...|23888557|SpongeBob SquareP...|B00005OTJ8|\n",
      "|Perlina Morgan Co...|26245347|             PERLINA|B000072X6P|\n",
      "|J. P. Ourse & Cie...|26241540|J. P. Ourse &amp;...|B000072XXH|\n",
      "|Sumdex X-Sac Expl...|26375869|              Sumdex|B0000733S8|\n",
      "|La Regale Peau de...|26228199|           La Regale|B000072XRF|\n",
      "|Lewis N. Clark Re...|23461935|      Lewis N. Clark|B000073209|\n",
      "|RoadWired Advance...|26173835|           RoadWired|B000078Q0G|\n",
      "|Etienne Aigner Wo...|26431618|      Etienne Aigner|B000078P9Q|\n",
      "|RoadWired MegaMed...|25949500|           RoadWired|B000078PE5|\n",
      "|Rolfs Nostalgia C...|25954434|              Rolf's|B000078QJY|\n",
      "|RoadWired 16 Adva...|26063256|           RoadWired|B000078QW4|\n",
      "|Nostalgia Double ...|19996662|              Rolf's|B000078QKW|\n",
      "|Rolfs Nostalgia C...|23161456|              Rolf's|B000078QKZ|\n",
      "|U.S. Luggage Busi...|23664531|        U.S. Luggage|B000078Q6P|\n",
      "|Wally Bags 42 Sui...|25844996|          Wally Bags|B000078R4R|\n",
      "|PDA Skins PDA Ski...|25997659|           PDA Skins|B000078QIN|\n",
      "|RoadWired Advance...|26117142|           RoadWired|B000078Q04|\n",
      "|U.S. Luggage Busi...|25267272|        U.S. Luggage|B00007ATWM|\n",
      "|J. P. Ourse & Cie...|26211965|  J. P. Ourse & Cie.|B00007AT01|\n",
      "|Dopp Deluxe Organ...|26277872|                Dopp|B00007GDA2|\n",
      "|Buxton Mountainee...|24094610|              Buxton|B00007GD9P|\n",
      "|Buxton Heiress Pi...|   43930|              Buxton|B00007GDFV|\n",
      "|Mansilk Silk Boxe...|22275381|             Mansilk|B00008DH8M|\n",
      "|7801 AccuCase Cam...|25749551|             Bianchi|B00008MZCI|\n",
      "|USA Patriotic Sun...|25766885|     A&amp;E Designs|B00008NUQD|\n",
      "|Maui Jim Sunglass...|26348720|            Maui Jim|B00009JV4A|\n",
      "|Maui Jim Sunglass...|25897282|             EyeSave|B00009JYIY|\n",
      "|Mansilk Silk Long...|24728942|             Mansilk|B00009MFB6|\n",
      "|Diamond CZ Huggy ...|26333259|GoldenMine.com Je...|B00009PU5O|\n",
      "|Serengeti Sunglas...|26452055|           Serengeti|B00009WNBP|\n",
      "|Pendant Star Of D...|26336326|   Avelor Collection|B00009XY37|\n",
      "|Sumdex Large Lapt...|25066603|              Sumdex|B00009YFBH|\n",
      "|Bra extenders pac...|23198637|           Emma Jane|B00009Z70E|\n",
      "|Bra extenders pac...|24484333|           Emma Jane|B00009Z707|\n",
      "|1mm Diamond Cut R...|26418411|GoldenMine.com Je...|B0000A1YH1|\n",
      "|3/4 WATCH BAND W/...|26056676|    Innovative Scuba|B0000A5MYM|\n",
      "|U.S. Luggage Busi...|25508176|        U.S. Luggage|B0000A98CV|\n",
      "|Fit-Overs Sunglas...|26455050|           Fit-Overs|B0000AGRHJ|\n",
      "|Eastpak Mastermin...|26105018|             Eastpak|B0000AOX0Y|\n",
      "|China Silk Balacl...| 7818969|          Guide Gear|B0000AWHAA|\n",
      "|Platinum 4mm Comf...|23065271|   Amazon Collection|B0000AWRIF|\n",
      "|14k Yellow Gold 4...|23926663|   Amazon Collection|B0000AWVWC|\n",
      "|18k Yellow Gold 8...|25041097|   Amazon Collection|B0000AWPJE|\n",
      "|3-pack Elder Meri...|20873262|               Elder|B0000AWX3V|\n",
      "|14k Yellow Gold 3...|23849589|   Amazon Collection|B0000AWTWR|\n",
      "|14k White Gold 8m...|23329230|   Amazon Collection|B0000AWYXK|\n",
      "|14k Gold 4mm Half...|15074653|   Amazon Collection|B0000AWXMM|\n",
      "|18k Yellow Gold 2...|23905012|   Amazon Collection|B0000AWOBT|\n",
      "|14k Yellow Gold 4...|25974100|   Amazon Collection|B0000BUWK5|\n",
      "|14k White Gold Ov...|25727173|   Amazon Collection|B0000BUWIZ|\n",
      "|14k Yellow Gold D...|25260696|Amazon.com Collec...|B0000BUXB5|\n",
      "|Sterling Silver K...|25645440|   Amazon Collection|B0000BYA3N|\n",
      "|Buxton Micro-Fibe...|25883549|              Buxton|B0000BZZCZ|\n",
      "|Lightweight Big &...|24869256|                 DXL|B0000C2RFX|\n",
      "|Lightweight Big &...|25814021|                 DXL|B0000C2RNF|\n",
      "|Lightweight Big &...|24822933|                 DXL|B0000C2RR0|\n",
      "|Harbor Bay Big & ...| 2655479|          Harbor Bay|B0000C3G7G|\n",
      "|Harbor Bay Big & ...| 9384778|          Harbor Bay|B0000C3GSM|\n",
      "|Mt. Rushmore Blac...|23893140|MT. RUSHMORE BH GOLD|B0000C85Q1|\n",
      "|Sterling Silver R...|26260657|   Amazon Collection|B0000CDVVL|\n",
      "| Lady Warm-up Jacket|26464780|             Girbaud|B0000CGHG7|\n",
      "|La Regale Slim En...|25532720|           La Regale|B0000CH6GE|\n",
      "|Etienne Aigner Cl...|24762326|      Etienne Aigner|B0000CH6QD|\n",
      "|Wiley-X Sunglasse...|26357229|              WileyX|B0000D8WDJ|\n",
      "|Serengeti Sunglas...|26470688|           Serengeti|B0000D8WMP|\n",
      "|UrbanSpecs Sungla...|26331130|          UrbanSpecs|B0000D8VVN|\n",
      "|Ladies Round Coll...|26227168|           Frank Bee|B0000DGL0E|\n",
      "|4mm Bead Separato...|24937325|            Logo Art|B0000DH7V8|\n",
      "|Ruby and Diamond ...|26302548|                Szul|B0000E1MN4|\n",
      "|Simple Diamond He...|26065024|                Szul|B0000E1MGG|\n",
      "|White Gold and Di...|25859393|                Szul|B0000E1LZK|\n",
      "|OGIO Metro (2004 ...|25660752|                OGIO|B0000E61QB|\n",
      "|Raika Floral 4 x ...|26069654|               Raika|B0000E630X|\n",
      "|Kolpin Foldout Am...|26434938|              Kolpin|B0000E6273|\n",
      "|Oleg Cassini Sign...|25148663|        Oleg Cassini|B0000E61Q8|\n",
      "|Platinum 6mm Comf...|24907338|   Amazon Collection|B0000EVVQ8|\n",
      "|18k Yellow Gold 7...|25366539|   Amazon Collection|B0000EVVP4|\n",
      "|18k Yellow Gold 6...|25491402|   Amazon Collection|B0000EVVOU|\n",
      "|14k White Gold 4m...|25194311|   Amazon Collection|B0000EVX1Q|\n",
      "|14k Yellow and Wh...|25110935|   Amazon Collection|B0000EVXVQ|\n",
      "|Platinum 2.5mm Co...|25505488|   Amazon Collection|B0000EVVQI|\n",
      "|14k White Gold 2m...|21316038|   Amazon Collection|B0000EVWYO|\n",
      "|Platinum 5mm Comf...|24653052|   Amazon Collection|B0000EVVPY|\n",
      "|14k Yellow Gold 8...|23506863|   Amazon Collection|B0000EVWWG|\n",
      "|14k White Gold En...|22601416|   Amazon Collection|B0000EVXVG|\n",
      "|1/10 ct.tw Prince...|23530526|                Szul|B0000TF0BU|\n",
      "| Timex INDIGLO Watch|24702902|               Timex|B0000TIIDM|\n",
      "|April Diamond CZ ...|26363305|GoldenMine.com Je...|B0000TVPQE|\n",
      "|Etienne Aigner Cl...|25057334|      Etienne Aigner|B0000U0JP6|\n",
      "|Sterling Silver O...|26037787|            Gemworks|B0000UYZJC|\n",
      "|Swiss Army Office...|24657235|          Swiss Army|B0000VA1FI|\n",
      "|Bridal Smooth und...|26362163|             Goddess|B0000VWBD8|\n",
      "|1/2 ct.tw Pear Di...|25909346|                Szul|B0000W53NM|\n",
      "|10kt. White Gold,...|26251583|    Littman Jewelers|B0000WMWTU|\n",
      "|Guess G95216l Lad...|12049742|               Guess|B0000WKVVQ|\n",
      "|Two-tone Antique ...|26287357|                Szul|B0000WMRWM|\n",
      "|Sterling Silver S...|26023049|            Gemworks|B0000WWT9I|\n",
      "|Sterling Silver R...|26280102|            Gemworks|B0000WWUMO|\n",
      "|Sterling Silver G...|26097188|            Gemworks|B0000WWTKM|\n",
      "|Sterling Silver C...|26396977|            Gemworks|B0000WWTY8|\n",
      "|Sterling Silver G...|26307029|            Gemworks|B0000WWUBU|\n",
      "|Sterling Silver B...|26038847|            Gemworks|B0000WWTHU|\n",
      "|Propet Surf Walke...|23769118|               Propt|B0000YS13Y|\n",
      "|Embassy by Giovan...|25901225|            Dashlynn|B0000YTZMU|\n",
      "|J. P. Ourse & Cie...|22408565|  J. P. Ourse & Cie.|B0000YWFKE|\n",
      "|Minor League Base...|25307125|         Star Struck|B0000ZH4YK|\n",
      "|Freddy vs. Jason ...| 9619903|                NECA|B0000ZG44Q|\n",
      "|  Seiko SUJ053 Watch|23090058|               Seiko|B0000ZH45Y|\n",
      "|Embassy Solid Gen...|25682511|            Dashlynn|B000100E96|\n",
      "|San Francisco Gia...|25955173|             New Era|B00011QQB0|\n",
      "|Sterling Silver G...|26319256|            Gemworks|B00015EJTC|\n",
      "|GST Industries Ki...|25993050|      GST Industries|B00015UY6E|\n",
      "|4-Ever Best Frien...|22938317|                 MGA|B000162XEE|\n",
      "|    Skagen - 556SSLP|24221515|              Skagen|B0001741IY|\n",
      "|Sterling Silver B...|26176832|            Gemworks|B00017WSRU|\n",
      "|Sterling Silver G...|26103071|            Gemworks|B00017WT2Y|\n",
      "|Sterling Silver L...|26218099|            Gemworks|B00017WSW0|\n",
      "|Sterling Silver M...|26293596|            Gemworks|B00017WT3S|\n",
      "|Sterling Silver R...|26282428|            Gemworks|B00017WRK8|\n",
      "|Fresh Water Pearl...|26413566|            Gemworks|B00017YIVO|\n",
      "|Detroit Tigers Au...|23933103|             New Era|B000185LXW|\n",
      "|Boston Red Sox Au...|20568656|             New Era|B000185KAQ|\n",
      "|Amber Sporting Go...|24581099|Amber Sporting Goods|B00018CY4G|\n",
      "|Platinum 2.5mm Hi...|24441104|   Amazon Collection|B00018I6YI|\n",
      "|Platinum 6mm Carv...|24219297|   Amazon Collection|B00018I6Z2|\n",
      "|Platinum 6mm Carv...|25272363|   Amazon Collection|B00018I6ZM|\n",
      "|NFL Extras Warner...|26466409|            Warner's|B00018ZPO2|\n",
      "|Portland Pirates ...|26105174|         Star Struck|B00019VMTI|\n",
      "|Florida State Uni...|25292439|           Colosseum|B00019WPNK|\n",
      "|Majestic Brooklyn...|23522814|            Majestic|B00019VW7U|\n",
      "|3-pc halter tanki...|25401007|        Newport News|B00019YC5Y|\n",
      "|Mesh Visor - Los ...|26018551|             New Era|B00019WB8Y|\n",
      "|University of Kan...|25663626|           Colosseum|B00019WSCI|\n",
      "|University of Mia...|25626434|           Colosseum|B0001ABCRY|\n",
      "|Sterling Silver A...|26424209|            Gemworks|B0001BN4DS|\n",
      "|Sterling Silver C...|26458487|            Gemworks|B0001BN4A6|\n",
      "|Chicago Cubs Chil...|25213449|             New Era|B0001CTWKG|\n",
      "|Softop Big & Tall...|23973777|              Softop|B0001CUOSK|\n",
      "|St Louis Cardinal...|25226503|             New Era|B0001CTWR4|\n",
      "|Sterling Silver T...|26408549|            Gemworks|B0001DCRVQ|\n",
      "|Blue Silk Brocade...|26435128|     Monarch Imports|B0001EFBUY|\n",
      "|Kathleen Kirkwood...|24615494|   Kathleen Kirkwood|B0001GN7YY|\n",
      "|Sterling Silver G...|26351079|            Gemworks|B0001H5ZHK|\n",
      "|Leather Suspender...| 3610267|    Classic Old West|B0001I56QE|\n",
      "|St Louis Cardinal...|25877602|            Majestic|B0001K3HT0|\n",
      "|Midas Remote Cont...|24993954|Universal Electro...|B0001KHRKU|\n",
      "|Solid Genuine Lea...|20905250|                 BNF|B0001LU08U|\n",
      "|Latest M - Series...|26435841|      Gift Warehouse|B0001LU1H0|\n",
      "|Sterling Silver C...|26296963|            Gemworks|B0001M7YH4|\n",
      "|Sterling Silver G...|26298518|            Gemworks|B0001M7XK2|\n",
      "|Big Daddy Men's B...|26438372|           Big Daddy|B0001ML754|\n",
      "|Pirate Deluxe Rol...|21914368|              Manley|B0001NE6MO|\n",
      "|Kipling Bryce Can...|25093649|             Kipling|B0001NLM8U|\n",
      "|Stone Mountain Ca...|26242371|      Stone Mountain|B0001NLO7O|\n",
      "|Ellington Leather...|25299313|           Ellington|B0001NLTR4|\n",
      "|Stone Mountain Ur...|25869095|      Stone Mountain|B0001NLQOK|\n",
      "|Del Mano New Micr...|25823245|            DEL MANO|B0001NLURS|\n",
      "|Sleeptop Low Neck...|18856207|            Sleeptop|B0001NPWYK|\n",
      "|Sleeptop Low Neck...|21380429|            Sleeptop|B0001NPWZE|\n",
      "|Sleeptop Low Neck...|20420483|            Sleeptop|B0001NPWZ4|\n",
      "|Wedding Handkerch...|26297839|Beverly Clark Col...|B0001PNGGE|\n",
      "|Wedding Bridal He...|26452408|           AA Bridal|B0001PNF5G|\n",
      "|Unisex Out Of Pro...|20243635|              Disney|B0001Q5ZQW|\n",
      "|UrbanSpecs Sungla...|24484126|             EyeSave|B0001Y50WS|\n",
      "|Harbor Bay by DXL...|10336531|          Harbor Bay|B0001Y7OTU|\n",
      "|Child Pink Mesqui...|24567803| Renton Western Wear|B0001YJ13C|\n",
      "|Womens Nike Prest...|13397507|                NIKE|B0001YMVVQ|\n",
      "|Swatch Blowing Aw...|25711662|              Swatch|B0001ZUVBM|\n",
      "|Sterling Silver G...|25824000|     Silver Insanity|B00023JP38|\n",
      "|New Sterling Silv...|26156173|     Silver Insanity|B00023JSJ4|\n",
      "|Art Nouveau Sterl...| 6343439|     Silver Insanity|B00023JX9Y|\n",
      "|GOLDSTONE Silver ...|26192441|     Silver Insanity|B00023JWH2|\n",
      "|Sterling Silver P...|25038074|     Silver Insanity|B00023JWIG|\n",
      "|Black Onyx and Am...|26230549|     Silver Insanity|B00023K7J4|\n",
      "|Sterling Silver A...|26325972|            Gemworks|B00023XF98|\n",
      "|Sterling Silver G...|26466935|            Gemworks|B00023XGTC|\n",
      "|Rainkist Micro Ma...| 8620585|            Rainkist|B00024R0NO|\n",
      "|Skagen Klassik_Wa...|23278490|              Skagen|B00027677G|\n",
      "|Swiss Army 24028 ...|22337414|          Swiss Army|B00028A9EC|\n",
      "|      Chain Necklace|25896552|Carolyn Forsman C...|B0002935WE|\n",
      "|A Perfect Circle ...|11295003|               JiGGy|B000297MHI|\n",
      "|International Tra...|25995918|International Tra...|B0002BLF8S|\n",
      "|Pierre Cardin Lea...|25028318|       Pierre Cardin|B0002BKY44|\n",
      "|Betula Licensed b...|23543616|         Birkenstock|B0002C9MGO|\n",
      "|Kenneth Cole_Watc...|25849949|        Kenneth Cole|B0002CU718|\n",
      "|Columbia Sportswe...|24230238|            Columbia|B0002H2XME|\n",
      "|Baseball Shirt - ...|25591208|         5th & Ocean|B0002H45NY|\n",
      "|Protec Metro Flut...|25727079|             Pro-Tec|B0002HU8XU|\n",
      "+--------------------+--------+--------------------+----------+\n",
      "only showing top 200 rows\n",
      "\n",
      "root\n",
      " |-- title: string (nullable = true)\n",
      " |-- rank: integer (nullable = true)\n",
      " |-- brand: string (nullable = true)\n",
      " |-- asin: string (nullable = true)\n",
      "\n"
     ]
    }
   ],
   "source": [
    "products_df = sqlc.read.option(\"multiline\", \"true\").csv(\"./Data/product_fashion_cleaned.csv\", header = True, inferSchema = True)\n",
    "products_df.show(200)\n",
    "products_df.printSchema()"
   ]
  },
  {
   "cell_type": "code",
   "execution_count": 21,
   "id": "97efeaba",
   "metadata": {},
   "outputs": [
    {
     "name": "stderr",
     "output_type": "stream",
     "text": [
      "\r",
      "[Stage 55:>                                                         (0 + 1) / 1]\r",
      "\r",
      "                                                                                \r"
     ]
    },
    {
     "name": "stdout",
     "output_type": "stream",
     "text": [
      "+-------+----------+--------------------+----+\n",
      "|overall|      asin|          reviewText|vote|\n",
      "+-------+----------+--------------------+----+\n",
      "|    5.0|7106116521|Exactly what I ne...|   0|\n",
      "|    2.0|7106116521|I agree with the ...|   3|\n",
      "|    2.0|7106116521| too tiny an opening|   0|\n",
      "|    5.0|7106116521|Exactly what I wa...|   0|\n",
      "|    4.0|7106116521|These little plas...|   0|\n",
      "|    3.0|B00007GDFV|mother - in - law...|   0|\n",
      "|    3.0|B00007GDFV|Item is of good q...|   0|\n",
      "|    3.0|B00007GDFV|I had used my las...|   0|\n",
      "|    4.0|B00007GDFV|This brand has be...|   0|\n",
      "|    2.0|B00007GDFV|I smoke 100's and...|   0|\n",
      "|    1.0|B00007GDFV|cheap and cheesy,...|   0|\n",
      "|    1.0|B00007GDFV|I ordered a ladie...|   0|\n",
      "|    4.0|B00007GDFV|Received the case...|   2|\n",
      "|    3.0|B00007GDFV|Love it but it to...|   0|\n",
      "|    5.0|B00007GDFV|I love it it is j...|   0|\n",
      "|    3.0|B00007GDFV|It is smaller tha...|   0|\n",
      "|    5.0|B00007GDFV|             love it|   0|\n",
      "|    1.0|B00007GDFV|Don't like it. It...|   0|\n",
      "|    4.0|B00007GDFV|                love|   0|\n",
      "|    4.0|B00007GDFV|Wonderful item. I...|   0|\n",
      "|    5.0|B00007GDFV|I just love it! I...|   0|\n",
      "|    4.0|B00007GDFV|made well but wil...|   0|\n",
      "|    5.0|B00007GDFV|I've ordered quit...|   0|\n",
      "|    5.0|B00007GDFV|Holds my cigarett...|   0|\n",
      "|    1.0|B00007GDFV|Does not hold 120...|   0|\n",
      "|    1.0|B00007GDFV|It fits my cigare...|   0|\n",
      "|    1.0|B00007GDFV|    Terrible quality|   0|\n",
      "|    3.0|B00007GDFV|nice but does not...|   0|\n",
      "|    4.0|B00007GDFV|        Good quality|   0|\n",
      "|    4.0|B00007GDFV|I like the case. ...|   0|\n",
      "|    5.0|B00007GDFV|I love it , it is...|   0|\n",
      "|    5.0|B00007GDFV| I love it thank you|   0|\n",
      "|    3.0|B00007GDFV|nice but to small...|   0|\n",
      "|    1.0|B00007GDFV|Says it fits 100s...|   0|\n",
      "|    4.0|B00007GDFV|The outside pocke...|   0|\n",
      "|    5.0|B00007GDFV|  Excellent product!|   0|\n",
      "|    5.0|B00007GDFV|Excellent product...|   0|\n",
      "|    5.0|B00007GDFV|Perfect cigarette...|   0|\n",
      "|    3.0|B00007GDFV|Too small, and my...|   0|\n",
      "|    2.0|B00007GDFV|It's ok, It doesn...|   0|\n",
      "|    4.0|B00007GDFV|Nice quality, but...|   0|\n",
      "|    5.0|B00007GDFV|Exactly what I wa...|   0|\n",
      "|    5.0|B00007GDFV|Just what I order...|   0|\n",
      "|    5.0|B00007GDFV|         all leather|   0|\n",
      "|    5.0|B00007GDFV|This works so ver...|   0|\n",
      "|    5.0|B00007GDFV|Perfect size and ...|   0|\n",
      "|    5.0|B00007GDFV|             Awesome|   0|\n",
      "|    5.0|B00007GDFV|Soft leather, ver...|   0|\n",
      "|    5.0|B00007GDFV|             great!!|   0|\n",
      "|    5.0|B00007GDFV|               Great|   0|\n",
      "|    1.0|B00007GDFV|NOT GOOD FOR ME I...|   0|\n",
      "|    3.0|B00007GDFV|Lining in lighter...|   0|\n",
      "|    4.0|B00007GDFV|Good product but ...|   0|\n",
      "|    1.0|B00007GDFV|           Too small|   0|\n",
      "|    4.0|B00007GDFV|I like this case,...|   0|\n",
      "|    3.0|B00007GDFV|Nice case but not...|   0|\n",
      "|    5.0|B00007GDFV|Great buy...the c...|   0|\n",
      "|    4.0|B00007GDFV|Good, just what I...|   0|\n",
      "|    4.0|B00007GDFV|Bought this for m...|   0|\n",
      "|    5.0|B00007GDFV|I had been lookin...|   8|\n",
      "|    5.0|B00007GDFV|It's just what I ...|   0|\n",
      "|    3.0|B00007GDFV|Pretty wallet but...|   0|\n",
      "|    3.0|B00007GDFV|I was disappointe...|   0|\n",
      "|    2.0|B00007GDFV|Is very small. Do...|   0|\n",
      "|    5.0|B00007GDFV|Worked great for ...|   0|\n",
      "|    4.0|B00007GDFV|Perfect leather c...|   0|\n",
      "|    5.0|B00007GDFV|Hard to find and ...|   0|\n",
      "|    4.0|B00007GDFV|a little to short...|   0|\n",
      "|    4.0|B00007GDFV|Purchased 2 cases...|   0|\n",
      "|    2.0|B00007GDFV|   doesn't fit 100's|   0|\n",
      "|    2.0|B00007GDFV|It does not fit 1...|   0|\n",
      "|    1.0|B00007GDFV|This product is n...|   0|\n",
      "|    5.0|B00007GDFV|Love this case I ...|   0|\n",
      "|    1.0|B00007GDFV|I ordered black g...|   0|\n",
      "|    4.0|B00007GDFV|barely holds a pa...|   0|\n",
      "|    5.0|B00007GDFV|Very pleased with...|   0|\n",
      "|    5.0|B00007GDFV|Perfect and durab...|   0|\n",
      "|    4.0|B00007GDFV|Great value at pr...|   0|\n",
      "|    5.0|B00007GDFV|Well made, nice l...|   0|\n",
      "|    3.0|B00007GDFV|IT IS ATTRACTIVE,...|   0|\n",
      "|    5.0|B00007GDFV|I bought this for...|   0|\n",
      "|    5.0|B00007GDFV|I cannot believe ...|   0|\n",
      "|    5.0|B00007GDFV|I ordered the Bux...|   0|\n",
      "|    1.0|B00007GDFV|The material did ...|   0|\n",
      "|    1.0|B00007GDFV|would not hold bo...|   0|\n",
      "|    1.0|B00007GDFV|Bought this for m...|   0|\n",
      "|    4.0|B00007GDFV|This was a gift, ...|   0|\n",
      "|    5.0|B00007GDFV|this was a gift a...|   0|\n",
      "|    3.0|B00007GDFV|Smaller than my p...|   0|\n",
      "|    5.0|B00007GDFV|I use the same ca...|   0|\n",
      "|    5.0|B00008JOQI|Hard to find shir...|   0|\n",
      "|    2.0|B00008JOQI|Below average for...|   0|\n",
      "|    3.0|B00008JOQI|The fit was a bit...|   2|\n",
      "|    5.0|B00008JOQI|Great style with ...|   0|\n",
      "|    5.0|B00008JOQI|        Good quality|   0|\n",
      "|    1.0|B00008JOQI|Does not perform ...|   0|\n",
      "|    5.0|B00008JOQI|Great quality and...|   0|\n",
      "|    5.0|B00008JOQI|Great shirt with ...|   0|\n",
      "|    3.0|B00008JOQI|A bit smaller fit...|   0|\n",
      "|    5.0|B00008JOQI|Good quality shir...|   0|\n",
      "|    2.0|B00008JOQI|As other reviewer...|   4|\n",
      "|    1.0|B00008JOQI|This shirt was th...|   3|\n",
      "|    3.0|B00008JOQI|             It's ok|   0|\n",
      "|    3.0|B00008JOQI|This shirt came s...|   2|\n",
      "|    5.0|B00008JOQI|Great fit, great ...|   0|\n",
      "|    4.0|B00008JOQI|Great material an...|   0|\n",
      "|    2.0|B00008JOQI|Shirt is ok ok ne...|   0|\n",
      "|    4.0|B00008JOQI|          Nice shirt|   0|\n",
      "|    2.0|B00008JOQI|        Fits too big|   0|\n",
      "|    5.0|B00008JOQI| Good quality shirt.|   0|\n",
      "|    5.0|B00008JOQI|great for pleasur...|   0|\n",
      "|    5.0|B00008JOQI|Nice shirt at a g...|   0|\n",
      "|    5.0|B00008JOQI|Beautiful shirt. ...|   0|\n",
      "|    2.0|B00008JOQI|Made in China. Ov...|   0|\n",
      "|    4.0|B00008JOQI|I've worn this sh...|   2|\n",
      "|    4.0|B00008JQF0|Nice shirt, Well ...|   3|\n",
      "|    5.0|B00008JQF0|Finally a shirt t...|   0|\n",
      "|    5.0|B00008JQF0|      Fits perfectly|   0|\n",
      "|    2.0|B00008JQF0|Other reviewers s...|   0|\n",
      "|    5.0|B00008JQF0|wanted a lose fit...|   0|\n",
      "|    5.0|B00008JQF0|          Excelente.|   0|\n",
      "|    1.0|B00008JQF0|needs to be iron ...|   0|\n",
      "|    2.0|B00008JQF0|           too large|   0|\n",
      "|    2.0|B00008JQF0|The other reviewe...|   5|\n",
      "|    5.0|B00008JVTT|If you want a loo...|   4|\n",
      "|    5.0|B00008JVTT|Love the shirt.  ...|   0|\n",
      "|    5.0|B00008JVTT|Beautiful shirt. ...|   0|\n",
      "|    5.0|B00008JVTT|Great shirt. Real...|   0|\n",
      "|    3.0|B00008JVTT|Fit was spot on. ...|   0|\n",
      "|    5.0|B00008JVTT|         great shirt|   0|\n",
      "|    5.0|B00008JVTT|quality at a good...|   0|\n",
      "|    5.0|B00008JVTT|I have nothing bu...|   0|\n",
      "|    5.0|B00008JVTT|Great quality- on...|   0|\n",
      "|    5.0|B00008JVTT|         quite happy|   0|\n",
      "|    4.0|B00008JVTT|Good fit, good qu...|   0|\n",
      "|    5.0|B00008JVTT|    Very nice shirt.|   0|\n",
      "|    4.0|B00008JVTT|Very nice shirt. ...|   0|\n",
      "|    5.0|B00008JVTT|It's a great shir...|   0|\n",
      "|    1.0|B00008JVTT|Pres of co..wear ...|   0|\n",
      "|    5.0|B00008JVTT|I expected it to ...|   0|\n",
      "|    5.0|B00008JVTT|Great shirt. It p...|   5|\n",
      "|    5.0|B00008JVTT|Nice shirt. Just ...|   0|\n",
      "|    4.0|B00008JVTT|This is a great l...|   0|\n",
      "|    4.0|B00008JVTT|I say not a bad b...|   0|\n",
      "|    5.0|B00008JVTT|Shopping through ...|   6|\n",
      "|    5.0|B00008JPRZ|        Great shirt.|   0|\n",
      "|    4.0|B00008JPRZ|I liked the shirt...|   3|\n",
      "|    5.0|B00008JPRZ|           excellent|   0|\n",
      "|    5.0|B00008JPRZ|               great|   0|\n",
      "|    3.0|B00008JPRZ|cuff's are a litt...|   5|\n",
      "|    5.0|B00008JPRZ|I was looking for...|  12|\n",
      "|    4.0|B00008JPRZ|Is as listed, goo...|   0|\n",
      "|    5.0|B00008JPRZ|           Beautiful|   0|\n",
      "|    5.0|B00008JPRZ|I'm going to get ...|   0|\n",
      "|    5.0|B00008JPRZ|I will order anot...|   0|\n",
      "|    4.0|B00008JPRZ|          Looks Good|   0|\n",
      "|    5.0|B00008JPRZ|Love the shirt, f...|   0|\n",
      "|    4.0|B00008JPRZ|I like the shirt ...|   2|\n",
      "|    5.0|B00008JPRZ|excellent quality...|   0|\n",
      "|    5.0|B00008JPRZ|Love shirt and ev...|   0|\n",
      "|    5.0|B00008JPRZ|         great shirt|   0|\n",
      "|    2.0|B0000AWHAA|It was too small ...|   2|\n",
      "|    2.0|B0000AWHAA|I am very disappo...|  14|\n",
      "|    5.0|B0000AWHAA|my son has to wai...|   0|\n",
      "|    4.0|B0000AWHAA|This balaclava is...|   0|\n",
      "|    3.0|B0000AWHAA|This is a vry dur...|   0|\n",
      "|    5.0|B0000AWXMM|This item came in...|   2|\n",
      "|    5.0|B0000AWXMM|This ring was wel...|   3|\n",
      "|    5.0|B0000AWX3V|When I first saw ...|  23|\n",
      "|    5.0|B00015VKT4|My first review b...|   5|\n",
      "|    5.0|B00015VKT4|It is refreshing ...|   6|\n",
      "|    5.0|B00015VKT4|I just got these ...|   3|\n",
      "|    5.0|B00015VKT4|these are the onl...|   5|\n",
      "|    5.0|B00015VKT4|I have only owned...|  18|\n",
      "|    2.0|B0001I56QE|The Suspenders ar...|   2|\n",
      "|    5.0|B0001I56QE|These leather sus...|   3|\n",
      "|    5.0|B0001I56QE|I have worn suspe...|   5|\n",
      "|    4.0|B0002L2LGI|Actually I didn't...|   0|\n",
      "|    4.0|B0002L2LGI|1.13.12 UPDATE: I...|   5|\n",
      "|    5.0|B0002L2LGI|Had a pair of the...|   0|\n",
      "|    3.0|B0002L2LGI|These gloves are ...|   5|\n",
      "|    5.0|B0002L2LGI|Awesome gloves.  ...|   7|\n",
      "|    5.0|B0002PR25Y|Good product, goo...|   0|\n",
      "|    5.0|B0002PR25Y|These are really ...|   0|\n",
      "|    5.0|B0002PR25Y|I would buy jewer...|   0|\n",
      "|    5.0|B0002PR25Y|These are just go...|   6|\n",
      "|    3.0|B0002PR25Y|Over quite a few ...|   0|\n",
      "|    5.0|B0002PR25Y|Nice fun earrings...|   0|\n",
      "|    1.0|B0002PR25Y|This product has ...|   0|\n",
      "|    2.0|B0002PR25Y|Before I purchase...|   0|\n",
      "|    5.0|B0002PR25Y|Package arrived p...|   0|\n",
      "|    5.0|B0002PR25Y|Purchased with a ...|   0|\n",
      "|    1.0|B0002PR25Y|I was very disapp...|   8|\n",
      "|    5.0|B0002PR25Y|received ear ring...|   0|\n",
      "|    5.0|B0002PR25Y|Bought for a gift...|   0|\n",
      "|    2.0|B0002PR25Y|Watch out with th...|   8|\n",
      "|    5.0|B0002TGUU8|So far I am very ...|   2|\n",
      "|    5.0|B0002TGUU8|I have been looki...|   0|\n",
      "|    5.0|B0002TGUU8|I love my sandals...|   0|\n",
      "|    4.0|B0002TGUU8|Wearing the same ...|  41|\n",
      "+-------+----------+--------------------+----+\n",
      "only showing top 200 rows\n",
      "\n",
      "root\n",
      " |-- overall: string (nullable = true)\n",
      " |-- asin: string (nullable = true)\n",
      " |-- reviewText: string (nullable = true)\n",
      " |-- vote: string (nullable = true)\n",
      "\n"
     ]
    }
   ],
   "source": [
    "reviews_df = sqlc.read.option(\"multiline\", \"true\").csv(\"./Data/review_fashion_cleaned.csv\", header = True, inferSchema = True)\n",
    "reviews_df.show(200)\n",
    "reviews_df.printSchema()"
   ]
  },
  {
   "cell_type": "code",
   "execution_count": 22,
   "id": "78912b9c",
   "metadata": {},
   "outputs": [],
   "source": [
    "products_df.createOrReplaceTempView(\"products\")\n",
    "reviews_df.createOrReplaceTempView(\"reviews\")"
   ]
  },
  {
   "cell_type": "markdown",
   "id": "49f4cedb",
   "metadata": {},
   "source": [
    "# Join two datasets on ASIN"
   ]
  },
  {
   "cell_type": "code",
   "execution_count": 278,
   "id": "b7b6c394",
   "metadata": {},
   "outputs": [],
   "source": [
    "q0 = sqlc.sql('''\n",
    "    SELECT DISTINCT title, rank, brand, products.asin, overall, reviewText, vote\n",
    "    FROM products, reviews\n",
    "    WHERE reviews.asin = products.asin\n",
    "    ;\n",
    "    ''')"
   ]
  },
  {
   "cell_type": "code",
   "execution_count": 279,
   "id": "7b4d3dc5",
   "metadata": {},
   "outputs": [
    {
     "name": "stderr",
     "output_type": "stream",
     "text": [
      "                                                                                \r"
     ]
    }
   ],
   "source": [
    "q0_df = q0.toPandas()"
   ]
  },
  {
   "cell_type": "code",
   "execution_count": 306,
   "id": "3d737d59",
   "metadata": {},
   "outputs": [
    {
     "data": {
      "text/html": [
       "<div>\n",
       "<style scoped>\n",
       "    .dataframe tbody tr th:only-of-type {\n",
       "        vertical-align: middle;\n",
       "    }\n",
       "\n",
       "    .dataframe tbody tr th {\n",
       "        vertical-align: top;\n",
       "    }\n",
       "\n",
       "    .dataframe thead th {\n",
       "        text-align: right;\n",
       "    }\n",
       "</style>\n",
       "<table border=\"1\" class=\"dataframe\">\n",
       "  <thead>\n",
       "    <tr style=\"text-align: right;\">\n",
       "      <th></th>\n",
       "      <th>title</th>\n",
       "      <th>rank</th>\n",
       "      <th>brand</th>\n",
       "      <th>asin</th>\n",
       "      <th>overall</th>\n",
       "      <th>reviewText</th>\n",
       "      <th>vote</th>\n",
       "    </tr>\n",
       "  </thead>\n",
       "  <tbody>\n",
       "    <tr>\n",
       "      <th>0</th>\n",
       "      <td>Sevendayz Men's Shady Records Eminem Hoodie Ho...</td>\n",
       "      <td>16147550</td>\n",
       "      <td>sevendayz</td>\n",
       "      <td>6041002984</td>\n",
       "      <td>5.0</td>\n",
       "      <td>Loved it, shipped fast, arrived in about 10 da...</td>\n",
       "      <td>0</td>\n",
       "    </tr>\n",
       "    <tr>\n",
       "      <th>1</th>\n",
       "      <td>X. L. Carbon Fiber Money Clip, made in the USA</td>\n",
       "      <td>3725957</td>\n",
       "      <td>Roar Carbon</td>\n",
       "      <td>9654263246</td>\n",
       "      <td>2.0</td>\n",
       "      <td>It was not the right size I was looking for. I...</td>\n",
       "      <td>0</td>\n",
       "    </tr>\n",
       "    <tr>\n",
       "      <th>2</th>\n",
       "      <td>X. L. Carbon Fiber Money Clip, made in the USA</td>\n",
       "      <td>3725957</td>\n",
       "      <td>Roar Carbon</td>\n",
       "      <td>9654263246</td>\n",
       "      <td>5.0</td>\n",
       "      <td>This money clip worked as described. Holds ite...</td>\n",
       "      <td>0</td>\n",
       "    </tr>\n",
       "    <tr>\n",
       "      <th>3</th>\n",
       "      <td>X. L. Carbon Fiber Money Clip, made in the USA</td>\n",
       "      <td>3725957</td>\n",
       "      <td>Roar Carbon</td>\n",
       "      <td>9654263246</td>\n",
       "      <td>5.0</td>\n",
       "      <td>I been real happy with this clip, I tried a fe...</td>\n",
       "      <td>0</td>\n",
       "    </tr>\n",
       "    <tr>\n",
       "      <th>4</th>\n",
       "      <td>USA Patriotic Sun Visor Cap - Clearance Item</td>\n",
       "      <td>25766885</td>\n",
       "      <td>A&amp;amp;E Designs</td>\n",
       "      <td>B00008NUQD</td>\n",
       "      <td>5.0</td>\n",
       "      <td>Great value for the price.  Out whole group wi...</td>\n",
       "      <td>0</td>\n",
       "    </tr>\n",
       "    <tr>\n",
       "      <th>...</th>\n",
       "      <td>...</td>\n",
       "      <td>...</td>\n",
       "      <td>...</td>\n",
       "      <td>...</td>\n",
       "      <td>...</td>\n",
       "      <td>...</td>\n",
       "      <td>...</td>\n",
       "    </tr>\n",
       "    <tr>\n",
       "      <th>559424</th>\n",
       "      <td>Spring Fever Womens Stripes Lined Double Up wi...</td>\n",
       "      <td>5162780</td>\n",
       "      <td>Spring Fever</td>\n",
       "      <td>B01HI9HJKY</td>\n",
       "      <td>1.0</td>\n",
       "      <td>Let me start by saying I've never left a one s...</td>\n",
       "      <td>0</td>\n",
       "    </tr>\n",
       "    <tr>\n",
       "      <th>559425</th>\n",
       "      <td>Grayson Shop Womens Plus Size Assorted Print G...</td>\n",
       "      <td>7784299</td>\n",
       "      <td>Grayson Shop</td>\n",
       "      <td>B01HIQXO56</td>\n",
       "      <td>4.0</td>\n",
       "      <td>I like the shirt  it fits well the only proble...</td>\n",
       "      <td>0</td>\n",
       "    </tr>\n",
       "    <tr>\n",
       "      <th>559426</th>\n",
       "      <td>Georgia Boot AMP Insole</td>\n",
       "      <td>496288</td>\n",
       "      <td>Georgia Boot</td>\n",
       "      <td>B01HIUEBF4</td>\n",
       "      <td>5.0</td>\n",
       "      <td>These are incredible, I purchased a pair of Re...</td>\n",
       "      <td>0</td>\n",
       "    </tr>\n",
       "    <tr>\n",
       "      <th>559427</th>\n",
       "      <td>Georgia Boot AMP Insole</td>\n",
       "      <td>496288</td>\n",
       "      <td>Georgia Boot</td>\n",
       "      <td>B01HIUEBF4</td>\n",
       "      <td>5.0</td>\n",
       "      <td>My cat ate my insoles out of my Georgia slippe...</td>\n",
       "      <td>0</td>\n",
       "    </tr>\n",
       "    <tr>\n",
       "      <th>559428</th>\n",
       "      <td>Girls Kids Baby Toddler Vogue Cotton White Let...</td>\n",
       "      <td>8996277</td>\n",
       "      <td>Juicart</td>\n",
       "      <td>B01HJAQ8OK</td>\n",
       "      <td>5.0</td>\n",
       "      <td>I order a 1-2 for my 19 month old who weighs a...</td>\n",
       "      <td>0</td>\n",
       "    </tr>\n",
       "  </tbody>\n",
       "</table>\n",
       "<p>559429 rows × 7 columns</p>\n",
       "</div>"
      ],
      "text/plain": [
       "                                                    title      rank  \\\n",
       "0       Sevendayz Men's Shady Records Eminem Hoodie Ho...  16147550   \n",
       "1          X. L. Carbon Fiber Money Clip, made in the USA   3725957   \n",
       "2          X. L. Carbon Fiber Money Clip, made in the USA   3725957   \n",
       "3          X. L. Carbon Fiber Money Clip, made in the USA   3725957   \n",
       "4            USA Patriotic Sun Visor Cap - Clearance Item  25766885   \n",
       "...                                                   ...       ...   \n",
       "559424  Spring Fever Womens Stripes Lined Double Up wi...   5162780   \n",
       "559425  Grayson Shop Womens Plus Size Assorted Print G...   7784299   \n",
       "559426                            Georgia Boot AMP Insole    496288   \n",
       "559427                            Georgia Boot AMP Insole    496288   \n",
       "559428  Girls Kids Baby Toddler Vogue Cotton White Let...   8996277   \n",
       "\n",
       "                  brand        asin overall  \\\n",
       "0             sevendayz  6041002984     5.0   \n",
       "1           Roar Carbon  9654263246     2.0   \n",
       "2           Roar Carbon  9654263246     5.0   \n",
       "3           Roar Carbon  9654263246     5.0   \n",
       "4       A&amp;E Designs  B00008NUQD     5.0   \n",
       "...                 ...         ...     ...   \n",
       "559424     Spring Fever  B01HI9HJKY     1.0   \n",
       "559425     Grayson Shop  B01HIQXO56     4.0   \n",
       "559426     Georgia Boot  B01HIUEBF4     5.0   \n",
       "559427     Georgia Boot  B01HIUEBF4     5.0   \n",
       "559428          Juicart  B01HJAQ8OK     5.0   \n",
       "\n",
       "                                               reviewText vote  \n",
       "0       Loved it, shipped fast, arrived in about 10 da...    0  \n",
       "1       It was not the right size I was looking for. I...    0  \n",
       "2       This money clip worked as described. Holds ite...    0  \n",
       "3       I been real happy with this clip, I tried a fe...    0  \n",
       "4       Great value for the price.  Out whole group wi...    0  \n",
       "...                                                   ...  ...  \n",
       "559424  Let me start by saying I've never left a one s...    0  \n",
       "559425  I like the shirt  it fits well the only proble...    0  \n",
       "559426  These are incredible, I purchased a pair of Re...    0  \n",
       "559427  My cat ate my insoles out of my Georgia slippe...    0  \n",
       "559428  I order a 1-2 for my 19 month old who weighs a...    0  \n",
       "\n",
       "[559429 rows x 7 columns]"
      ]
     },
     "execution_count": 306,
     "metadata": {},
     "output_type": "execute_result"
    }
   ],
   "source": [
    "q0_df"
   ]
  },
  {
   "attachments": {},
   "cell_type": "markdown",
   "id": "4357965b",
   "metadata": {},
   "source": [
    "# 4.1 Whether Num_of_Reviews, Avg_ratings, Rating_power affect the product ranking, and find the top products"
   ]
  },
  {
   "cell_type": "code",
   "execution_count": 284,
   "id": "c0d2c3cf",
   "metadata": {},
   "outputs": [],
   "source": [
    "q1 = sqlc.sql('''\n",
    "    SELECT rank, COUNT(*) AS Num_of_Reviews, ROUND(AVG(overall),2) AS Avg_ratings, ROUND(COUNT(*) * AVG(overall),2) AS Rating_power\n",
    "    FROM products, reviews\n",
    "    WHERE products.asin = reviews.asin\n",
    "    GROUP BY rank\n",
    "    HAVING Num_of_Reviews >= 40\n",
    "    ORDER BY rank ASC\n",
    "    ;\n",
    "    ''')"
   ]
  },
  {
   "cell_type": "code",
   "execution_count": 285,
   "id": "a063f5b2",
   "metadata": {},
   "outputs": [
    {
     "name": "stderr",
     "output_type": "stream",
     "text": [
      "                                                                                \r"
     ]
    }
   ],
   "source": [
    "q1_df = q1.toPandas()"
   ]
  },
  {
   "cell_type": "code",
   "execution_count": 292,
   "id": "edacc422",
   "metadata": {},
   "outputs": [
    {
     "data": {
      "text/html": [
       "<div>\n",
       "<style scoped>\n",
       "    .dataframe tbody tr th:only-of-type {\n",
       "        vertical-align: middle;\n",
       "    }\n",
       "\n",
       "    .dataframe tbody tr th {\n",
       "        vertical-align: top;\n",
       "    }\n",
       "\n",
       "    .dataframe thead th {\n",
       "        text-align: right;\n",
       "    }\n",
       "</style>\n",
       "<table border=\"1\" class=\"dataframe\">\n",
       "  <thead>\n",
       "    <tr style=\"text-align: right;\">\n",
       "      <th></th>\n",
       "      <th>rank</th>\n",
       "      <th>Num_of_Reviews</th>\n",
       "      <th>Avg_ratings</th>\n",
       "      <th>Rating_power</th>\n",
       "    </tr>\n",
       "  </thead>\n",
       "  <tbody>\n",
       "    <tr>\n",
       "      <th>rank</th>\n",
       "      <td>1.000000</td>\n",
       "      <td>-0.218502</td>\n",
       "      <td>-0.320289</td>\n",
       "      <td>-0.232901</td>\n",
       "    </tr>\n",
       "    <tr>\n",
       "      <th>Num_of_Reviews</th>\n",
       "      <td>-0.218502</td>\n",
       "      <td>1.000000</td>\n",
       "      <td>0.084074</td>\n",
       "      <td>0.992350</td>\n",
       "    </tr>\n",
       "    <tr>\n",
       "      <th>Avg_ratings</th>\n",
       "      <td>-0.320289</td>\n",
       "      <td>0.084074</td>\n",
       "      <td>1.000000</td>\n",
       "      <td>0.151516</td>\n",
       "    </tr>\n",
       "    <tr>\n",
       "      <th>Rating_power</th>\n",
       "      <td>-0.232901</td>\n",
       "      <td>0.992350</td>\n",
       "      <td>0.151516</td>\n",
       "      <td>1.000000</td>\n",
       "    </tr>\n",
       "  </tbody>\n",
       "</table>\n",
       "</div>"
      ],
      "text/plain": [
       "                    rank  Num_of_Reviews  Avg_ratings  Rating_power\n",
       "rank            1.000000       -0.218502    -0.320289     -0.232901\n",
       "Num_of_Reviews -0.218502        1.000000     0.084074      0.992350\n",
       "Avg_ratings    -0.320289        0.084074     1.000000      0.151516\n",
       "Rating_power   -0.232901        0.992350     0.151516      1.000000"
      ]
     },
     "execution_count": 292,
     "metadata": {},
     "output_type": "execute_result"
    }
   ],
   "source": [
    "q1_df[:1500].corr(method = 'pearson')"
   ]
  },
  {
   "cell_type": "code",
   "execution_count": 305,
   "id": "4e4fe6b7",
   "metadata": {},
   "outputs": [
    {
     "data": {
      "image/png": "[encoded data removed]",
      "text/plain": [
       "<Figure size 1440x432 with 2 Axes>"
      ]
     },
     "metadata": {
      "needs_background": "light"
     },
     "output_type": "display_data"
    }
   ],
   "source": [
    "ax = sns.heatmap( q1_df[:1500].corr(method = 'pearson') , linewidth = 0.5 , cmap = 'coolwarm' )\n",
    "  \n",
    "plt.title( \"2-D Heat Map\" )\n",
    "plt.show()"
   ]
  },
  {
   "cell_type": "code",
   "execution_count": 193,
   "id": "05f7f403",
   "metadata": {},
   "outputs": [],
   "source": [
    "def q1_plot(y, bins, scope = 0, axvline = (False,0,'r')):\n",
    "    if not scope:\n",
    "        plt.hist(q1_df['rank'], weights = q1_df[y], bins = bins)\n",
    "    else:\n",
    "        plt.hist(q1_df[:scope]['rank'], weights = q1_df[:scope][y], bins = bins)\n",
    "    plt.xlabel('Rank')\n",
    "    plt.ylabel(y)\n",
    "    if axvline[0]:\n",
    "        plt.axvline(x = axvline[1], color = axvline[2])\n",
    "    plt.show()\n",
    "        "
   ]
  },
  {
   "cell_type": "code",
   "execution_count": 297,
   "id": "493bac0a",
   "metadata": {},
   "outputs": [
    {
     "data": {
      "image/png": "[encoded data removed]",
      "text/plain": [
       "<Figure size 1440x432 with 1 Axes>"
      ]
     },
     "metadata": {
      "needs_background": "light"
     },
     "output_type": "display_data"
    }
   ],
   "source": [
    "q1_plot('Avg_ratings', bins = 200)"
   ]
  },
  {
   "cell_type": "code",
   "execution_count": 298,
   "id": "72949d4a",
   "metadata": {},
   "outputs": [
    {
     "data": {
      "image/png": "[encoded data removed]",
      "text/plain": [
       "<Figure size 1440x432 with 1 Axes>"
      ]
     },
     "metadata": {
      "needs_background": "light"
     },
     "output_type": "display_data"
    }
   ],
   "source": [
    "q1_plot('Avg_ratings', bins = 100, scope = 1600, axvline = (True, 2e6, 'r'))"
   ]
  },
  {
   "attachments": {},
   "cell_type": "markdown",
   "id": "b1a699dd",
   "metadata": {},
   "source": [
    "# 4.2 Take num_of_helpful_reviews into consideration to see if it affects the product ranking, and refine the weighted-rating formula by vote"
   ]
  },
  {
   "cell_type": "code",
   "execution_count": 307,
   "id": "c8a1583b",
   "metadata": {},
   "outputs": [],
   "source": [
    "q2 = sqlc.sql('''\n",
    "    SELECT rank, title, brand, ROUND(AVG(weighted_rating), 2) AS Weighted_rating, COUNT(*) AS Num_of_reviews\n",
    "    FROM products\n",
    "    JOIN (\n",
    "        SELECT asin,\n",
    "        CASE\n",
    "            WHEN vote = 0 THEN overall\n",
    "            ELSE overall*vote/vote\n",
    "        END AS weighted_rating\n",
    "        FROM reviews\n",
    "    ) new_reviews\n",
    "    ON products.asin = new_reviews.asin\n",
    "    GROUP BY products.title, products.brand, products.rank\n",
    "    ORDER BY rank ASC\n",
    "    ;\n",
    "    ''')\n"
   ]
  },
  {
   "cell_type": "code",
   "execution_count": 308,
   "id": "a3cee42b",
   "metadata": {},
   "outputs": [
    {
     "name": "stderr",
     "output_type": "stream",
     "text": [
      "                                                                                \r"
     ]
    }
   ],
   "source": [
    "q2_df = q2.toPandas()"
   ]
  },
  {
   "cell_type": "code",
   "execution_count": 309,
   "id": "a5f8bc06",
   "metadata": {},
   "outputs": [
    {
     "data": {
      "text/html": [
       "<div>\n",
       "<style scoped>\n",
       "    .dataframe tbody tr th:only-of-type {\n",
       "        vertical-align: middle;\n",
       "    }\n",
       "\n",
       "    .dataframe tbody tr th {\n",
       "        vertical-align: top;\n",
       "    }\n",
       "\n",
       "    .dataframe thead th {\n",
       "        text-align: right;\n",
       "    }\n",
       "</style>\n",
       "<table border=\"1\" class=\"dataframe\">\n",
       "  <thead>\n",
       "    <tr style=\"text-align: right;\">\n",
       "      <th></th>\n",
       "      <th>rank</th>\n",
       "      <th>Weighted_rating</th>\n",
       "      <th>Num_of_reviews</th>\n",
       "    </tr>\n",
       "  </thead>\n",
       "  <tbody>\n",
       "    <tr>\n",
       "      <th>rank</th>\n",
       "      <td>1.000000</td>\n",
       "      <td>-0.004044</td>\n",
       "      <td>-0.270408</td>\n",
       "    </tr>\n",
       "    <tr>\n",
       "      <th>Weighted_rating</th>\n",
       "      <td>-0.004044</td>\n",
       "      <td>1.000000</td>\n",
       "      <td>-0.018467</td>\n",
       "    </tr>\n",
       "    <tr>\n",
       "      <th>Num_of_reviews</th>\n",
       "      <td>-0.270408</td>\n",
       "      <td>-0.018467</td>\n",
       "      <td>1.000000</td>\n",
       "    </tr>\n",
       "  </tbody>\n",
       "</table>\n",
       "</div>"
      ],
      "text/plain": [
       "                     rank  Weighted_rating  Num_of_reviews\n",
       "rank             1.000000        -0.004044       -0.270408\n",
       "Weighted_rating -0.004044         1.000000       -0.018467\n",
       "Num_of_reviews  -0.270408        -0.018467        1.000000"
      ]
     },
     "execution_count": 309,
     "metadata": {},
     "output_type": "execute_result"
    }
   ],
   "source": [
    "q2_df[:1500].corr(method = 'pearson')"
   ]
  },
  {
   "cell_type": "code",
   "execution_count": 310,
   "id": "e8d96e1d",
   "metadata": {},
   "outputs": [
    {
     "data": {
      "image/png": "[encoded data removed]",
      "text/plain": [
       "<Figure size 1440x432 with 2 Axes>"
      ]
     },
     "metadata": {
      "needs_background": "light"
     },
     "output_type": "display_data"
    }
   ],
   "source": [
    "ax = sns.heatmap( q2_df[:1500].corr(method = 'pearson') , linewidth = 0.5 , cmap = 'coolwarm' )\n",
    "  \n",
    "plt.title( \"2-D Heat Map\" )\n",
    "plt.show()"
   ]
  },
  {
   "attachments": {},
   "cell_type": "markdown",
   "id": "ed2cee3e",
   "metadata": {},
   "source": [
    "# 4.3 Find other formula that could largely affect the product ranking"
   ]
  },
  {
   "cell_type": "code",
   "execution_count": 250,
   "id": "4c671835",
   "metadata": {},
   "outputs": [
    {
     "name": "stderr",
     "output_type": "stream",
     "text": [
      "\r",
      "[Stage 379:>                                                        (0 + 1) / 1]\r"
     ]
    },
    {
     "name": "stdout",
     "output_type": "stream",
     "text": [
      "+-----------------+--------+\n",
      "|     avg(overall)|count(1)|\n",
      "+-----------------+--------+\n",
      "|3.903577082502508|  827498|\n",
      "+-----------------+--------+\n",
      "\n"
     ]
    },
    {
     "name": "stderr",
     "output_type": "stream",
     "text": [
      "\r",
      "                                                                                \r"
     ]
    }
   ],
   "source": [
    "sqlc.sql('''\n",
    "    SELECT AVG(overall), COUNT(*)\n",
    "    FROM reviews\n",
    "    ;\n",
    "    ''').show()"
   ]
  },
  {
   "cell_type": "code",
   "execution_count": 311,
   "id": "f8d5f23b",
   "metadata": {},
   "outputs": [],
   "source": [
    "q3 = sqlc.sql('''\n",
    "    SELECT DISTINCT products.rank, products.title, products.brand, new_reviews.bayes_avg\n",
    "    FROM products\n",
    "    JOIN (\n",
    "        SELECT asin, (AVG(overall)*COUNT(*)+ 100*3.9)/(COUNT(*) + 100) AS bayes_avg\n",
    "        FROM reviews\n",
    "        GROUP BY asin\n",
    "    ) new_reviews\n",
    "    ON products.asin = new_reviews.asin\n",
    "    ORDER BY rank ASC\n",
    "    ;\n",
    "    ''')"
   ]
  },
  {
   "cell_type": "code",
   "execution_count": 312,
   "id": "4ebde0ac",
   "metadata": {},
   "outputs": [
    {
     "name": "stderr",
     "output_type": "stream",
     "text": [
      "                                                                                \r"
     ]
    }
   ],
   "source": [
    "q3_df = q3.toPandas()"
   ]
  },
  {
   "cell_type": "code",
   "execution_count": 313,
   "id": "2b54d271",
   "metadata": {},
   "outputs": [
    {
     "data": {
      "text/html": [
       "<div>\n",
       "<style scoped>\n",
       "    .dataframe tbody tr th:only-of-type {\n",
       "        vertical-align: middle;\n",
       "    }\n",
       "\n",
       "    .dataframe tbody tr th {\n",
       "        vertical-align: top;\n",
       "    }\n",
       "\n",
       "    .dataframe thead th {\n",
       "        text-align: right;\n",
       "    }\n",
       "</style>\n",
       "<table border=\"1\" class=\"dataframe\">\n",
       "  <thead>\n",
       "    <tr style=\"text-align: right;\">\n",
       "      <th></th>\n",
       "      <th>rank</th>\n",
       "      <th>bayes_avg</th>\n",
       "    </tr>\n",
       "  </thead>\n",
       "  <tbody>\n",
       "    <tr>\n",
       "      <th>rank</th>\n",
       "      <td>1.000000</td>\n",
       "      <td>-0.167957</td>\n",
       "    </tr>\n",
       "    <tr>\n",
       "      <th>bayes_avg</th>\n",
       "      <td>-0.167957</td>\n",
       "      <td>1.000000</td>\n",
       "    </tr>\n",
       "  </tbody>\n",
       "</table>\n",
       "</div>"
      ],
      "text/plain": [
       "               rank  bayes_avg\n",
       "rank       1.000000  -0.167957\n",
       "bayes_avg -0.167957   1.000000"
      ]
     },
     "execution_count": 313,
     "metadata": {},
     "output_type": "execute_result"
    }
   ],
   "source": [
    "q3_df[:1500].corr(method = 'pearson')"
   ]
  },
  {
   "cell_type": "code",
   "execution_count": 304,
   "id": "433b2d0c",
   "metadata": {},
   "outputs": [
    {
     "data": {
      "image/png": "[encoded data removed]",
      "text/plain": [
       "<Figure size 1440x432 with 2 Axes>"
      ]
     },
     "metadata": {
      "needs_background": "light"
     },
     "output_type": "display_data"
    }
   ],
   "source": [
    "ax = sns.heatmap( q3_df[:1500].corr(method = 'pearson') , linewidth = 0.5 , cmap = 'coolwarm' )\n",
    "  \n",
    "plt.title( \"2-D Heat Map\" )\n",
    "plt.show()"
   ]
  },
  {
   "cell_type": "code",
   "execution_count": null,
   "id": "7942cacf",
   "metadata": {},
   "outputs": [],
   "source": []
  }
 ],
 "metadata": {
  "kernelspec": {
   "display_name": "Python 3 (ipykernel)",
   "language": "python",
   "name": "python3"
  },
  "language_info": {
   "codemirror_mode": {
    "name": "ipython",
    "version": 3
   },
   "file_extension": ".py",
   "mimetype": "text/x-python",
   "name": "python",
   "nbconvert_exporter": "python",
   "pygments_lexer": "ipython3",
   "version": "3.9.12"
  }
 },
 "nbformat": 4,
 "nbformat_minor": 5
}
